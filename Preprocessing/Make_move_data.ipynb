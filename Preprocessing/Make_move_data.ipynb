{
 "cells": [
  {
   "cell_type": "code",
   "execution_count": 14,
   "id": "d0a18881-5809-4eea-9fd7-1ed0e3f98fd5",
   "metadata": {},
   "outputs": [
    {
     "name": "stdout",
     "output_type": "stream",
     "text": [
      "3031\n",
      "Dataset created and saved as magnus_moves_dataset.csv\n"
     ]
    }
   ],
   "source": [
    "import chess\n",
    "import chess.pgn\n",
    "import csv\n",
    "'''\n",
    "/Users/ruvinjagoda/Downloads/Erigaisi.pgn\n",
    "\n",
    "\n",
    "\n",
    "\n",
    "'''\n",
    "pgn_file = \"/Users/ruvinjagoda/Downloads/Erigaisi.pgn\"\n",
    "\n",
    "# Function to parse PGN file and yield game data\n",
    "def read_pgn_file(filename):\n",
    "    games = []\n",
    "    with open(filename) as pgn_file:\n",
    "        while True:\n",
    "            game = chess.pgn.read_game(pgn_file)\n",
    "            if game is None:\n",
    "                break\n",
    "            games.append(game)\n",
    "    return games\n",
    "\n",
    "def mirror_move(move):\n",
    "    \"\"\" Mirror a move for the opposite side of the board. \"\"\"\n",
    "    return chess.Move(chess.square_mirror(move.from_square), chess.square_mirror(move.to_square))\n",
    "\n",
    "def mirror_board(board):\n",
    "    \"\"\" Mirror the board to swap White and Black. \"\"\"\n",
    "    mirrored_board = board.mirror()\n",
    "    return mirrored_board\n",
    "\n",
    "def is_magnus(player_name):\n",
    "    \"\"\" Check if the player is Magnus Carlsen (case-insensitive). \"\"\"\n",
    "    player_name = player_name.lower()\n",
    "    return \"erigaisi\" in player_name or \"kateryna\" in player_name\n",
    "\n",
    "def get_fen_and_move(games, max_moves=150000):\n",
    "    move_sequence = []\n",
    "    game_id = 0\n",
    "    total_moves = 0\n",
    "\n",
    "    for game in games:\n",
    "        if game is None:\n",
    "            continue\n",
    "\n",
    "        board = game.board()\n",
    "        white_player = game.headers[\"White\"]\n",
    "        black_player = game.headers[\"Black\"]\n",
    "        move_id = 0\n",
    "\n",
    "        for move in game.mainline_moves():\n",
    "            fen = board.fen()\n",
    "            move_id += 1\n",
    "            if is_magnus(white_player):\n",
    "                mirrored_board = mirror_board(board)\n",
    "                mirrored_move = mirror_move(move)\n",
    "                move_sequence.append((game_id + 1, move_id, mirrored_board.fen(), mirrored_move.uci()))\n",
    "            elif is_magnus(black_player):\n",
    "                move_sequence.append((game_id + 1, move_id, fen, move.uci()))\n",
    "            board.push(move)\n",
    "\n",
    "            total_moves += 1\n",
    "            if total_moves >= max_moves:\n",
    "                return move_sequence\n",
    "\n",
    "        game_id += 1\n",
    "\n",
    "    return move_sequence\n",
    "\n",
    "def save_dataset(dataset, filename):\n",
    "    with open(filename, mode='w', newline='') as file:\n",
    "        writer = csv.writer(file)\n",
    "        writer.writerow([\"GameID\", \"MoveID\", \"FEN\", \"Move\", \"Player\"])\n",
    "        for game_id, move_id, fen, move in dataset:\n",
    "            writer.writerow([game_id, move_id, fen, move, \"Erigaisi\"])\n",
    "\n",
    "# Read PGN file\n",
    "games = read_pgn_file(pgn_file)\n",
    "print(len(games))\n",
    "# Extract the FEN and moves dataset with a limit of 150,000 moves\n",
    "dataset = get_fen_and_move(games, max_moves=150000)\n",
    "\n",
    "# Save the dataset to a CSV file\n",
    "save_dataset(dataset, \"./Created data/Erigaisi_moves_dataset_150000.csv\")\n",
    "\n",
    "print(\"Dataset created and saved as magnus_moves_dataset.csv\")\n"
   ]
  },
  {
   "cell_type": "code",
   "execution_count": 16,
   "id": "cf62167b-edf9-4545-9c5e-d83ec83826ac",
   "metadata": {},
   "outputs": [
    {
     "name": "stdout",
     "output_type": "stream",
     "text": [
      "All files combined and saved as combined_dataset.csv\n"
     ]
    }
   ],
   "source": [
    "import os\n",
    "import pandas as pd\n",
    "\n",
    "# Define the directory containing your CSV files\n",
    "directory = \"./Created data\"\n",
    "\n",
    "# List all CSV files in the directory\n",
    "csv_files = [os.path.join(directory, file) for file in os.listdir(directory) if file.endswith('.csv')]\n",
    "\n",
    "# Initialize an empty DataFrame\n",
    "combined_df = pd.DataFrame()\n",
    "\n",
    "# Read and concatenate all CSV files\n",
    "for csv_file in csv_files:\n",
    "    df = pd.read_csv(csv_file)\n",
    "    combined_df = pd.concat([combined_df, df], ignore_index=True)\n",
    "\n",
    "# Save the combined DataFrame to a new CSV file\n",
    "combined_df.to_csv('combined_dataset.csv', index=False)\n",
    "\n",
    "print(\"All files combined and saved as combined_dataset.csv\")\n"
   ]
  },
  {
   "cell_type": "code",
   "execution_count": null,
   "id": "c69c798a-d338-4e7c-aa08-646ead7da623",
   "metadata": {},
   "outputs": [],
   "source": []
  }
 ],
 "metadata": {
  "kernelspec": {
   "display_name": "Python 3 (ipykernel)",
   "language": "python",
   "name": "python3"
  },
  "language_info": {
   "codemirror_mode": {
    "name": "ipython",
    "version": 3
   },
   "file_extension": ".py",
   "mimetype": "text/x-python",
   "name": "python",
   "nbconvert_exporter": "python",
   "pygments_lexer": "ipython3",
   "version": "3.11.5"
  }
 },
 "nbformat": 4,
 "nbformat_minor": 5
}
